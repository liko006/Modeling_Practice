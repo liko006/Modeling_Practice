{
 "cells": [
  {
   "cell_type": "code",
   "execution_count": 1,
   "metadata": {},
   "outputs": [],
   "source": [
    "import tensorflow as tf\n",
    "import numpy as np\n",
    "import random\n",
    "import copy"
   ]
  },
  {
   "cell_type": "code",
   "execution_count": 2,
   "metadata": {},
   "outputs": [
    {
     "name": "stdout",
     "output_type": "stream",
     "text": [
      "2.3.1\n"
     ]
    }
   ],
   "source": [
    "print(tf.__version__)"
   ]
  },
  {
   "cell_type": "markdown",
   "metadata": {},
   "source": [
    "## [순서 바꾸기]\n",
    "\n",
    "(100, 3, 256, 256) <-> (100, 256, 256, 3)"
   ]
  },
  {
   "cell_type": "code",
   "execution_count": 3,
   "metadata": {},
   "outputs": [
    {
     "name": "stdout",
     "output_type": "stream",
     "text": [
      "(100, 3, 256, 256)\n",
      "<class 'tensorflow.python.framework.ops.EagerTensor'>\n",
      "(100, 3, 256, 256)\n",
      "<class 'numpy.ndarray'>\n"
     ]
    }
   ],
   "source": [
    "tfdata = tf.random.uniform([100,3,256,256], minval=0, maxval=10, seed=42)\n",
    "npdata = np.random.rand(100,3,256,256)\n",
    "print(tfdata.shape)\n",
    "print(type(tfdata))\n",
    "print(npdata.shape)\n",
    "print(type(npdata))"
   ]
  },
  {
   "cell_type": "code",
   "execution_count": 4,
   "metadata": {},
   "outputs": [
    {
     "name": "stdout",
     "output_type": "stream",
     "text": [
      "(100, 256, 256, 3)\n",
      "<class 'tensorflow.python.framework.ops.EagerTensor'>\n",
      "(100, 256, 256, 3)\n",
      "<class 'numpy.ndarray'>\n"
     ]
    }
   ],
   "source": [
    "# change 2nd and 4th axis\n",
    "tfdata = tf.transpose(tfdata, [0, 3, 2, 1])\n",
    "npdata = np.moveaxis(npdata, 1, -1)\n",
    "print(tfdata.shape)\n",
    "print(type(tfdata))\n",
    "print(npdata.shape)\n",
    "print(type(npdata))"
   ]
  },
  {
   "cell_type": "code",
   "execution_count": 5,
   "metadata": {},
   "outputs": [
    {
     "name": "stdout",
     "output_type": "stream",
     "text": [
      "(100, 3, 256, 256)\n",
      "<class 'tensorflow.python.framework.ops.EagerTensor'>\n",
      "(100, 3, 256, 256)\n",
      "<class 'numpy.ndarray'>\n"
     ]
    }
   ],
   "source": [
    "# rechange 4th and 2nd axis\n",
    "tfdata = tf.transpose(tfdata, [0, 3, 2, 1])\n",
    "npdata = np.moveaxis(npdata, -1, 1)\n",
    "print(tfdata.shape)\n",
    "print(type(tfdata))\n",
    "print(npdata.shape)\n",
    "print(type(npdata))"
   ]
  },
  {
   "cell_type": "markdown",
   "metadata": {},
   "source": [
    "## [차원 늘리기/줄이기]\n",
    "\n",
    "(100, 100) -> (1, 100, 100) / (100, 1, 100) \n",
    "\n",
    "/ (100, 100, 1) -> (100, 100)"
   ]
  },
  {
   "cell_type": "code",
   "execution_count": 6,
   "metadata": {},
   "outputs": [
    {
     "name": "stdout",
     "output_type": "stream",
     "text": [
      "(100, 100)\n",
      "<class 'tensorflow.python.framework.ops.EagerTensor'>\n",
      "(100, 100)\n",
      "<class 'numpy.ndarray'>\n"
     ]
    }
   ],
   "source": [
    "tfdata = tf.random.uniform([100,100], minval=0, maxval=10, seed=42)\n",
    "npdata = np.random.rand(100,100)\n",
    "print(tfdata.shape)\n",
    "print(type(tfdata))\n",
    "print(npdata.shape)\n",
    "print(type(npdata))"
   ]
  },
  {
   "cell_type": "code",
   "execution_count": 7,
   "metadata": {},
   "outputs": [
    {
     "name": "stdout",
     "output_type": "stream",
     "text": [
      "(1, 100, 100)\n",
      "<class 'tensorflow.python.framework.ops.EagerTensor'>\n",
      "(1, 100, 100)\n",
      "<class 'numpy.ndarray'>\n",
      "(100, 1, 100)\n",
      "<class 'tensorflow.python.framework.ops.EagerTensor'>\n",
      "(100, 1, 100)\n",
      "<class 'numpy.ndarray'>\n",
      "(100, 100, 1)\n",
      "<class 'tensorflow.python.framework.ops.EagerTensor'>\n",
      "(100, 100, 1)\n",
      "<class 'numpy.ndarray'>\n"
     ]
    }
   ],
   "source": [
    "# expand dimension (axis=0,1,2)\n",
    "tfdata0 = tf.expand_dims(tfdata, axis=0)\n",
    "npdata0 = np.expand_dims(npdata, axis=0)\n",
    "print(tfdata0.shape)\n",
    "print(type(tfdata0))\n",
    "print(npdata0.shape)\n",
    "print(type(npdata0))\n",
    "tfdata1 = tf.expand_dims(tfdata, axis=1)\n",
    "npdata1 = np.expand_dims(npdata, axis=1)\n",
    "print(tfdata1.shape)\n",
    "print(type(tfdata1))\n",
    "print(npdata1.shape)\n",
    "print(type(npdata1))\n",
    "tfdata2 = tf.expand_dims(tfdata, axis=2)\n",
    "npdata2 = np.expand_dims(npdata, axis=2)\n",
    "print(tfdata2.shape)\n",
    "print(type(tfdata2))\n",
    "print(npdata2.shape)\n",
    "print(type(npdata2))"
   ]
  },
  {
   "cell_type": "code",
   "execution_count": 8,
   "metadata": {},
   "outputs": [
    {
     "name": "stdout",
     "output_type": "stream",
     "text": [
      "(100, 100)\n",
      "<class 'tensorflow.python.framework.ops.EagerTensor'>\n",
      "(100, 100)\n",
      "<class 'numpy.ndarray'>\n"
     ]
    }
   ],
   "source": [
    "# reduce dimension\n",
    "tfdata0 = tf.squeeze(tfdata0, axis=0)\n",
    "npdata0 = np.squeeze(npdata0, axis=0)\n",
    "print(tfdata0.shape)\n",
    "print(type(tfdata0))\n",
    "print(npdata0.shape)\n",
    "print(type(npdata0))"
   ]
  },
  {
   "cell_type": "markdown",
   "metadata": {},
   "source": [
    "## [데이터 나누기]\n",
    "\n",
    "(100, 3, 256, 256) -> (100, 1, 256, 256), (100, 1, 256, 256), (100, 1, 256, 256)\n",
    "\n",
    "(100, 3, 256, 256) -> (100, 3, 256, 128), (100, 3, 256, 128)"
   ]
  },
  {
   "cell_type": "code",
   "execution_count": 9,
   "metadata": {},
   "outputs": [
    {
     "name": "stdout",
     "output_type": "stream",
     "text": [
      "(100, 3, 256, 256)\n",
      "<class 'tensorflow.python.framework.ops.EagerTensor'>\n",
      "(100, 3, 256, 256)\n",
      "<class 'numpy.ndarray'>\n"
     ]
    }
   ],
   "source": [
    "tfdata = tf.random.uniform([100,3,256,256], minval=0, maxval=10, seed=42)\n",
    "npdata = np.random.rand(100,3,256,256)\n",
    "print(tfdata.shape)\n",
    "print(type(tfdata))\n",
    "print(npdata.shape)\n",
    "print(type(npdata))"
   ]
  },
  {
   "cell_type": "code",
   "execution_count": 10,
   "metadata": {},
   "outputs": [
    {
     "name": "stdout",
     "output_type": "stream",
     "text": [
      "(100, 1, 256, 256)\n",
      "(100, 1, 256, 256)\n",
      "(100, 1, 256, 256)\n"
     ]
    }
   ],
   "source": [
    "# split the tensor along axis=1\n",
    "split_tf10, split_tf11, split_tf12 = tf.split(tfdata, num_or_size_splits=3, axis=1)\n",
    "print(split_tf10.shape)\n",
    "print(split_tf11.shape)\n",
    "print(split_tf12.shape)"
   ]
  },
  {
   "cell_type": "code",
   "execution_count": 11,
   "metadata": {},
   "outputs": [
    {
     "name": "stdout",
     "output_type": "stream",
     "text": [
      "(100, 1, 256, 256)\n",
      "(100, 1, 256, 256)\n",
      "(100, 1, 256, 256)\n"
     ]
    }
   ],
   "source": [
    "# split the ndarray along axis=1\n",
    "split_np10, split_np11, split_np12 = np.split(npdata, 3, axis=1)\n",
    "print(split_np10.shape)\n",
    "print(split_np11.shape)\n",
    "print(split_np12.shape)"
   ]
  },
  {
   "cell_type": "code",
   "execution_count": 12,
   "metadata": {},
   "outputs": [
    {
     "name": "stdout",
     "output_type": "stream",
     "text": [
      "(100, 3, 256, 128)\n",
      "(100, 3, 256, 128)\n"
     ]
    }
   ],
   "source": [
    "# split the tensor along axis=3\n",
    "split_tf30, split_tf31 = tf.split(tfdata, num_or_size_splits=2, axis=3)\n",
    "print(split_tf30.shape)\n",
    "print(split_tf31.shape)"
   ]
  },
  {
   "cell_type": "code",
   "execution_count": 13,
   "metadata": {},
   "outputs": [
    {
     "name": "stdout",
     "output_type": "stream",
     "text": [
      "(100, 3, 256, 128)\n",
      "(100, 3, 256, 128)\n"
     ]
    }
   ],
   "source": [
    "# split the ndarray along axis=3\n",
    "split_np30, split_np31 = np.split(npdata, 2, axis=3)\n",
    "print(split_np30.shape)\n",
    "print(split_np31.shape)"
   ]
  },
  {
   "cell_type": "markdown",
   "metadata": {},
   "source": [
    "## [데이터 합치기]\n",
    "\n",
    "(100, 3, 256, 256), (100, 3, 256, 256) -> (100, 6, 256, 256)\n",
    "\n",
    "(100, 3, 256, 256), (100, 3, 256, 256) -> (200, 3, 256, 256)\n",
    "\n",
    "(100, 3, 256, 256), (100, 3, 256, 256) -> (100, 3, 256, 512)"
   ]
  },
  {
   "cell_type": "code",
   "execution_count": 14,
   "metadata": {},
   "outputs": [
    {
     "name": "stdout",
     "output_type": "stream",
     "text": [
      "(100, 3, 256, 256)\n",
      "<class 'tensorflow.python.framework.ops.EagerTensor'>\n",
      "(100, 3, 256, 256)\n",
      "<class 'numpy.ndarray'>\n"
     ]
    }
   ],
   "source": [
    "tfdata = tf.random.uniform([100,3,256,256], minval=0, maxval=10, seed=42)\n",
    "npdata = np.random.rand(100,3,256,256)\n",
    "print(tfdata.shape)\n",
    "print(type(tfdata))\n",
    "print(npdata.shape)\n",
    "print(type(npdata))"
   ]
  },
  {
   "cell_type": "code",
   "execution_count": 15,
   "metadata": {},
   "outputs": [
    {
     "name": "stdout",
     "output_type": "stream",
     "text": [
      "(100, 6, 256, 256)\n",
      "<class 'tensorflow.python.framework.ops.EagerTensor'>\n"
     ]
    }
   ],
   "source": [
    "# concatenate along axis=1\n",
    "tfdata1 = tf.concat([tfdata, tfdata], axis=1)\n",
    "print(tfdata1.shape)\n",
    "print(type(tfdata1))"
   ]
  },
  {
   "cell_type": "code",
   "execution_count": 16,
   "metadata": {},
   "outputs": [
    {
     "name": "stdout",
     "output_type": "stream",
     "text": [
      "(100, 6, 256, 256)\n",
      "<class 'numpy.ndarray'>\n"
     ]
    }
   ],
   "source": [
    "# concatenate along axis=1\n",
    "npdata1 = np.concatenate((npdata, npdata), axis=1)\n",
    "print(npdata1.shape)\n",
    "print(type(npdata1))"
   ]
  },
  {
   "cell_type": "code",
   "execution_count": 17,
   "metadata": {},
   "outputs": [
    {
     "name": "stdout",
     "output_type": "stream",
     "text": [
      "(200, 3, 256, 256)\n",
      "<class 'tensorflow.python.framework.ops.EagerTensor'>\n"
     ]
    }
   ],
   "source": [
    "# concatenate along axis=0\n",
    "tfdata0 = tf.concat([tfdata, tfdata], axis=0)\n",
    "print(tfdata0.shape)\n",
    "print(type(tfdata0))"
   ]
  },
  {
   "cell_type": "code",
   "execution_count": 18,
   "metadata": {},
   "outputs": [
    {
     "name": "stdout",
     "output_type": "stream",
     "text": [
      "(200, 3, 256, 256)\n",
      "<class 'numpy.ndarray'>\n"
     ]
    }
   ],
   "source": [
    "# concatenate along axis=0\n",
    "npdata0 = np.concatenate((npdata, npdata), axis=0)\n",
    "print(npdata0.shape)\n",
    "print(type(npdata0))"
   ]
  },
  {
   "cell_type": "code",
   "execution_count": 19,
   "metadata": {},
   "outputs": [
    {
     "name": "stdout",
     "output_type": "stream",
     "text": [
      "(100, 3, 256, 512)\n",
      "<class 'tensorflow.python.framework.ops.EagerTensor'>\n"
     ]
    }
   ],
   "source": [
    "# concatenate along axis=3\n",
    "tfdata3 = tf.concat([tfdata, tfdata], axis=3)\n",
    "print(tfdata3.shape)\n",
    "print(type(tfdata3))"
   ]
  },
  {
   "cell_type": "code",
   "execution_count": 20,
   "metadata": {},
   "outputs": [
    {
     "name": "stdout",
     "output_type": "stream",
     "text": [
      "(100, 3, 256, 512)\n",
      "<class 'numpy.ndarray'>\n"
     ]
    }
   ],
   "source": [
    "# concatenate along axis=3\n",
    "npdata3 = np.concatenate((npdata, npdata), axis=3)\n",
    "print(npdata3.shape)\n",
    "print(type(npdata3))"
   ]
  },
  {
   "cell_type": "markdown",
   "metadata": {},
   "source": [
    "## [평균값 구하기]\n",
    "\n",
    "(100, 50, 30) -> (100, 50)\n",
    "\n",
    "(100, 50, 30) -> (100, 30)\n",
    "\n",
    "(100, 50, 30) -> (100)\n",
    "\n",
    "(100, 50, 30) -> 값"
   ]
  },
  {
   "cell_type": "code",
   "execution_count": 21,
   "metadata": {},
   "outputs": [
    {
     "name": "stdout",
     "output_type": "stream",
     "text": [
      "(100, 50, 30)\n",
      "<class 'tensorflow.python.framework.ops.EagerTensor'>\n",
      "(100, 50, 30)\n",
      "<class 'numpy.ndarray'>\n"
     ]
    }
   ],
   "source": [
    "tfdata = tf.random.uniform([100,50,30], minval=0, maxval=10, seed=42)\n",
    "npdata = np.random.rand(100,50,30)\n",
    "print(tfdata.shape)\n",
    "print(type(tfdata))\n",
    "print(npdata.shape)\n",
    "print(type(npdata))"
   ]
  },
  {
   "cell_type": "code",
   "execution_count": 22,
   "metadata": {},
   "outputs": [
    {
     "name": "stdout",
     "output_type": "stream",
     "text": [
      "(100, 50)\n",
      "<class 'tensorflow.python.framework.ops.EagerTensor'>\n",
      "(100, 50)\n",
      "<class 'numpy.ndarray'>\n"
     ]
    }
   ],
   "source": [
    "# mean along axis=2\n",
    "tfm2 = tf.reduce_mean(tfdata, axis=2)\n",
    "npm2 = np.mean(npdata, axis=2)\n",
    "print(tfm2.shape)\n",
    "print(type(tfm2))\n",
    "print(npm2.shape)\n",
    "print(type(npm2))"
   ]
  },
  {
   "cell_type": "code",
   "execution_count": 23,
   "metadata": {},
   "outputs": [
    {
     "name": "stdout",
     "output_type": "stream",
     "text": [
      "(100, 30)\n",
      "<class 'tensorflow.python.framework.ops.EagerTensor'>\n",
      "(100, 30)\n",
      "<class 'numpy.ndarray'>\n"
     ]
    }
   ],
   "source": [
    "# mean along axis=1\n",
    "tfm1 = tf.reduce_mean(tfdata, axis=1)\n",
    "npm1 = np.mean(npdata, axis=1)\n",
    "print(tfm1.shape)\n",
    "print(type(tfm1))\n",
    "print(npm1.shape)\n",
    "print(type(npm1))"
   ]
  },
  {
   "cell_type": "code",
   "execution_count": 24,
   "metadata": {},
   "outputs": [
    {
     "name": "stdout",
     "output_type": "stream",
     "text": [
      "(100,)\n",
      "<class 'tensorflow.python.framework.ops.EagerTensor'>\n",
      "(100,)\n",
      "<class 'numpy.ndarray'>\n"
     ]
    }
   ],
   "source": [
    "# mean along axis=1 and axis=2\n",
    "tfm12 = tf.reduce_mean(tfdata, axis=(1,2))\n",
    "npm12 = np.mean(npdata, axis=(1,2))\n",
    "print(tfm12.shape)\n",
    "print(type(tfm12))\n",
    "print(npm12.shape)\n",
    "print(type(npm12))"
   ]
  },
  {
   "cell_type": "code",
   "execution_count": 25,
   "metadata": {},
   "outputs": [
    {
     "name": "stdout",
     "output_type": "stream",
     "text": [
      "tf.Tensor(5.002161, shape=(), dtype=float32)\n",
      "<class 'tensorflow.python.framework.ops.EagerTensor'>\n",
      "0.4998525569330445\n",
      "<class 'numpy.float64'>\n"
     ]
    }
   ],
   "source": [
    "# mean along all axes\n",
    "tfm = tf.reduce_mean(tfdata)\n",
    "npm = np.mean(npdata)\n",
    "print(tfm)\n",
    "print(type(tfm))\n",
    "print(npm)\n",
    "print(type(npm))"
   ]
  },
  {
   "cell_type": "markdown",
   "metadata": {},
   "source": [
    "## [max / min 값만 뽑아서 새로운 데이터 만들기]\n",
    "\n",
    "(100, 50, 30) -> (100, 50)\n",
    "\n",
    "(100, 50, 30) -> (100, 30)\n",
    "\n",
    "(100, 50, 30) -> (100)\n",
    "\n",
    "(100, 50, 30) -> 값"
   ]
  },
  {
   "cell_type": "code",
   "execution_count": 26,
   "metadata": {},
   "outputs": [
    {
     "name": "stdout",
     "output_type": "stream",
     "text": [
      "(100, 50, 30)\n",
      "<class 'tensorflow.python.framework.ops.EagerTensor'>\n",
      "(100, 50, 30)\n",
      "<class 'numpy.ndarray'>\n"
     ]
    }
   ],
   "source": [
    "tfdata = tf.random.uniform([100,50,30], minval=0, maxval=10, seed=42)\n",
    "npdata = np.random.rand(100,50,30)\n",
    "print(tfdata.shape)\n",
    "print(type(tfdata))\n",
    "print(npdata.shape)\n",
    "print(type(npdata))"
   ]
  },
  {
   "cell_type": "code",
   "execution_count": 27,
   "metadata": {},
   "outputs": [
    {
     "name": "stdout",
     "output_type": "stream",
     "text": [
      "(100, 50)\n",
      "<class 'tensorflow.python.framework.ops.EagerTensor'>\n",
      "(100, 50)\n",
      "<class 'numpy.ndarray'>\n",
      "(100, 50)\n",
      "<class 'tensorflow.python.framework.ops.EagerTensor'>\n",
      "(100, 50)\n",
      "<class 'numpy.ndarray'>\n"
     ]
    }
   ],
   "source": [
    "# max along axis=2\n",
    "tfmax2 = tf.reduce_max(tfdata, axis=2)\n",
    "npmax2 = np.amax(npdata, axis=2)\n",
    "print(tfmax2.shape)\n",
    "print(type(tfmax2))\n",
    "print(npmax2.shape)\n",
    "print(type(npmax2))\n",
    "\n",
    "# min along axis=2\n",
    "tfmin2 = tf.reduce_min(tfdata, axis=2)\n",
    "npmin2 = np.amin(npdata, axis=2)\n",
    "print(tfmin2.shape)\n",
    "print(type(tfmin2))\n",
    "print(npmin2.shape)\n",
    "print(type(npmin2))"
   ]
  },
  {
   "cell_type": "code",
   "execution_count": 28,
   "metadata": {},
   "outputs": [
    {
     "name": "stdout",
     "output_type": "stream",
     "text": [
      "(100, 30)\n",
      "<class 'tensorflow.python.framework.ops.EagerTensor'>\n",
      "(100, 30)\n",
      "<class 'numpy.ndarray'>\n",
      "(100, 30)\n",
      "<class 'tensorflow.python.framework.ops.EagerTensor'>\n",
      "(100, 30)\n",
      "<class 'numpy.ndarray'>\n"
     ]
    }
   ],
   "source": [
    "# max along axis=1\n",
    "tfmax1 = tf.reduce_max(tfdata, axis=1)\n",
    "npmax1 = np.amax(npdata, axis=1)\n",
    "print(tfmax1.shape)\n",
    "print(type(tfmax1))\n",
    "print(npmax1.shape)\n",
    "print(type(npmax1))\n",
    "\n",
    "# min along axis=1\n",
    "tfmin1 = tf.reduce_min(tfdata, axis=1)\n",
    "npmin1 = np.amin(npdata, axis=1)\n",
    "print(tfmin1.shape)\n",
    "print(type(tfmin1))\n",
    "print(npmin1.shape)\n",
    "print(type(npmin1))"
   ]
  },
  {
   "cell_type": "code",
   "execution_count": 29,
   "metadata": {},
   "outputs": [
    {
     "name": "stdout",
     "output_type": "stream",
     "text": [
      "(100,)\n",
      "<class 'tensorflow.python.framework.ops.EagerTensor'>\n",
      "(100,)\n",
      "<class 'numpy.ndarray'>\n",
      "(100,)\n",
      "<class 'tensorflow.python.framework.ops.EagerTensor'>\n",
      "(100,)\n",
      "<class 'numpy.ndarray'>\n"
     ]
    }
   ],
   "source": [
    "# max along axis=1 and axis=2\n",
    "tfmax12 = tf.reduce_max(tfdata, axis=(1,2))\n",
    "npmax12 = np.amax(npdata, axis=(1,2))\n",
    "print(tfmax12.shape)\n",
    "print(type(tfmax12))\n",
    "print(npmax12.shape)\n",
    "print(type(npmax12))\n",
    "\n",
    "# min along axis=1 and axis=2\n",
    "tfmin12 = tf.reduce_min(tfdata, axis=(1,2))\n",
    "npmin12 = np.amin(npdata, axis=(1,2))\n",
    "print(tfmin12.shape)\n",
    "print(type(tfmin12))\n",
    "print(npmin12.shape)\n",
    "print(type(npmin12))"
   ]
  },
  {
   "cell_type": "code",
   "execution_count": 30,
   "metadata": {},
   "outputs": [
    {
     "name": "stdout",
     "output_type": "stream",
     "text": [
      "tf.Tensor(9.999848, shape=(), dtype=float32)\n",
      "<class 'tensorflow.python.framework.ops.EagerTensor'>\n",
      "0.9999906193819845\n",
      "<class 'numpy.float64'>\n",
      "tf.Tensor(0.00019431114, shape=(), dtype=float32)\n",
      "<class 'tensorflow.python.framework.ops.EagerTensor'>\n",
      "1.3829718211955111e-05\n",
      "<class 'numpy.float64'>\n"
     ]
    }
   ],
   "source": [
    "# max along all axes\n",
    "tfmax = tf.reduce_max(tfdata)\n",
    "npmax = np.amax(npdata)\n",
    "print(tfmax)\n",
    "print(type(tfmax))\n",
    "print(npmax)\n",
    "print(type(npmax))\n",
    "\n",
    "# min along all axes\n",
    "tfmin = tf.reduce_min(tfdata)\n",
    "npmin = np.amin(npdata)\n",
    "print(tfmin)\n",
    "print(type(tfmin))\n",
    "print(npmin)\n",
    "print(type(npmin))"
   ]
  },
  {
   "cell_type": "markdown",
   "metadata": {},
   "source": [
    "## [index 목록을 가지고 one-hot 형태의 데이터 만들기]\n",
    "\n",
    "[1, 3, 2, 5, 0, 7, 8] -> (7, 10): (length of list, dimension size)"
   ]
  },
  {
   "cell_type": "code",
   "execution_count": 31,
   "metadata": {},
   "outputs": [
    {
     "name": "stdout",
     "output_type": "stream",
     "text": [
      "tf.Tensor(\n",
      "[[0. 1. 0. 0. 0. 0. 0. 0. 0. 0.]\n",
      " [0. 0. 0. 1. 0. 0. 0. 0. 0. 0.]\n",
      " [0. 0. 1. 0. 0. 0. 0. 0. 0. 0.]\n",
      " [0. 0. 0. 0. 0. 1. 0. 0. 0. 0.]\n",
      " [1. 0. 0. 0. 0. 0. 0. 0. 0. 0.]\n",
      " [0. 0. 0. 0. 0. 0. 0. 1. 0. 0.]\n",
      " [0. 0. 0. 0. 0. 0. 0. 0. 1. 0.]], shape=(7, 10), dtype=float32)\n"
     ]
    }
   ],
   "source": [
    "idx = [1,3,2,5,0,7,8]\n",
    "\n",
    "tfonehot = tf.one_hot(idx, 10)\n",
    "tfonehot.shape\n",
    "print(tfonehot)"
   ]
  },
  {
   "cell_type": "markdown",
   "metadata": {},
   "source": [
    "## [max / min 값에 해당하는 값만 1을 가지고 나머지는 0을 가지는 one-hot 형태의 데이터 만들기]\n",
    "\n",
    "(100, 50, 30) -> (100, 50, 30)"
   ]
  },
  {
   "cell_type": "code",
   "execution_count": 32,
   "metadata": {},
   "outputs": [
    {
     "name": "stdout",
     "output_type": "stream",
     "text": [
      "(100, 50, 30)\n",
      "<class 'tensorflow.python.framework.ops.EagerTensor'>\n",
      "(100, 50, 30)\n",
      "<class 'numpy.ndarray'>\n",
      "(100, 50, 30)\n",
      "[0. 0. 0. 0. 0. 0. 0. 0. 0. 0. 0. 0. 0. 0. 0. 0. 0. 0. 0. 0. 0. 0. 0. 0.\n",
      " 0. 1. 0. 0. 0. 0.]\n",
      "(100, 50, 30)\n",
      "[1. 0. 0. 0. 0. 0. 0. 0. 0. 0. 0. 0. 0. 0. 0. 0. 0. 0. 0. 0. 0. 0. 0. 0.\n",
      " 0. 0. 0. 0. 0. 0.]\n"
     ]
    }
   ],
   "source": [
    "tfdata = tf.random.uniform([100,50,30], minval=0, maxval=10, seed=42)\n",
    "npdata = np.random.rand(100,50,30)\n",
    "print(tfdata.shape)\n",
    "print(type(tfdata))\n",
    "print(npdata.shape)\n",
    "print(type(npdata))\n",
    "\n",
    "tfmax2 = tf.math.argmax(tfdata, axis=2)\n",
    "tfonehot = tf.zeros_like(tfdata)\n",
    "npmax2 = np.argmax(npdata, axis=2)\n",
    "nponehot = np.zeros_like(npdata)\n",
    "\n",
    "# only for tensor type data\n",
    "onehot = np.array(tfonehot)\n",
    "\n",
    "for i in range(100):\n",
    "    for j in range(50):\n",
    "        onehot[i][j][tfmax2[i][j]] = 1\n",
    "        \n",
    "for i in range(100):\n",
    "    for j in range(50):\n",
    "        nponehot[i][j][npmax2[i][j]] = 1\n",
    "\n",
    "print(onehot.shape)\n",
    "print(onehot[0][0])\n",
    "print(nponehot.shape)\n",
    "print(nponehot[0][0])"
   ]
  },
  {
   "cell_type": "markdown",
   "metadata": {},
   "source": [
    "## [one-hot 형태의 데이터를 이용해서, 다른 데이터에 있는 값중 one-hot에서 1에 해당하는 위치의 값만을 가져오기]\n",
    "\n",
    "A: (100, 50, 30) - onehot, \n",
    "\n",
    "B: (100, 50, 30) -> (100, 50, 1)"
   ]
  },
  {
   "cell_type": "code",
   "execution_count": 33,
   "metadata": {},
   "outputs": [
    {
     "name": "stdout",
     "output_type": "stream",
     "text": [
      "(100, 50, 1)\n",
      "(100, 50, 1)\n"
     ]
    }
   ],
   "source": [
    "# onehot type data\n",
    "A_tf = onehot\n",
    "A_np = nponehot\n",
    "\n",
    "# another data with same shape\n",
    "B_tfdata = tf.random.uniform([100,50,30], minval=0, maxval=10, seed=42)\n",
    "B_npdata = np.random.rand(100,50,30)\n",
    "\n",
    "tfdata = tf.zeros_like(B_tfdata)\n",
    "# convert tensor type data to ndarray type data\n",
    "tfdata = np.array(tfdata)\n",
    "tfdata = np.resize(tfdata, (100,50,1))\n",
    "\n",
    "npdata = np.zeros_like(B_npdata)\n",
    "npdata = np.resize(npdata, (100,50,1))\n",
    "\n",
    "for i in range(100):\n",
    "    for j in range(50):\n",
    "        tfdata[i][j] = B_tfdata[i][j][tf.math.argmax(A_tf, axis=2)[i][j]]\n",
    "        \n",
    "for i in range(100):\n",
    "    for j in range(50):\n",
    "        npdata[i][j] = B_npdata[i][j][np.argmax(A_np,axis=2)[i][j]]\n",
    "        \n",
    "print(tfdata.shape)\n",
    "print(npdata.shape)"
   ]
  },
  {
   "cell_type": "markdown",
   "metadata": {},
   "source": [
    "## [one-hot 형태의 데이터를 이용해서, 다른 데이터에 있는 값중 one-hot에서 1에 해당하는 위치의 값만 남기고 나머지는 0으로 만들기]\n",
    "\n",
    "A: (100, 50, 30) - onehot, \n",
    "\n",
    "B: (100, 50, 30) -> (100, 50, 30)"
   ]
  },
  {
   "cell_type": "code",
   "execution_count": 34,
   "metadata": {},
   "outputs": [
    {
     "name": "stdout",
     "output_type": "stream",
     "text": [
      "(100, 50, 30)\n",
      "(100, 50, 30)\n"
     ]
    }
   ],
   "source": [
    "# onehot type data\n",
    "A_tf = onehot\n",
    "A_np = nponehot\n",
    "\n",
    "# another data with same shape\n",
    "B_tfdata = tf.random.uniform([100,50,30], minval=0, maxval=10, seed=42)\n",
    "B_npdata = np.random.rand(100,50,30)\n",
    "\n",
    "tfdata = A_tf * B_tfdata\n",
    "npdata = A_np * B_npdata\n",
    "print(tfdata.shape)\n",
    "print(npdata.shape)"
   ]
  }
 ],
 "metadata": {
  "kernelspec": {
   "display_name": "Python 3",
   "language": "python",
   "name": "python3"
  },
  "language_info": {
   "codemirror_mode": {
    "name": "ipython",
    "version": 3
   },
   "file_extension": ".py",
   "mimetype": "text/x-python",
   "name": "python",
   "nbconvert_exporter": "python",
   "pygments_lexer": "ipython3",
   "version": "3.6.9"
  }
 },
 "nbformat": 4,
 "nbformat_minor": 4
}
